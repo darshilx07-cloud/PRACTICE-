{
 "cells": [
  {
   "cell_type": "markdown",
   "id": "bc27f0cf-c234-4460-a554-ec7b4fcd20f1",
   "metadata": {},
   "source": [
    "# PRACTICE OF PYTHON & ITS BASIC!"
   ]
  },
  {
   "cell_type": "code",
   "execution_count": 11,
   "id": "7c79c8a2-4a5b-4b2c-9cd3-8d833443b670",
   "metadata": {},
   "outputs": [
    {
     "data": {
      "text/plain": [
       "int"
      ]
     },
     "execution_count": 11,
     "metadata": {},
     "output_type": "execute_result"
    }
   ],
   "source": [
    "# "
   ]
  },
  {
   "cell_type": "code",
   "execution_count": 12,
   "id": "ca3f36e9-b105-43d4-923b-8938575e63c5",
   "metadata": {},
   "outputs": [
    {
     "data": {
      "text/plain": [
       "7"
      ]
     },
     "execution_count": 12,
     "metadata": {},
     "output_type": "execute_result"
    }
   ],
   "source": [
    "a+b+c"
   ]
  },
  {
   "cell_type": "code",
   "execution_count": 29,
   "id": "810eb073-f737-4b4c-8f1e-cb4bf211c250",
   "metadata": {},
   "outputs": [],
   "source": [
    "List = [2, 2.5, True, None, \"Prince\"]"
   ]
  },
  {
   "cell_type": "code",
   "execution_count": 30,
   "id": "c3c3642d-51f9-4455-b7bb-97ed5bf7577a",
   "metadata": {},
   "outputs": [
    {
     "data": {
      "text/plain": [
       "[2, 2.5, True, None, 'Prince']"
      ]
     },
     "execution_count": 30,
     "metadata": {},
     "output_type": "execute_result"
    }
   ],
   "source": [
    "List\n",
    "\n",
    "\n",
    "\n",
    "\n"
   ]
  },
  {
   "cell_type": "code",
   "execution_count": 31,
   "id": "e4eca052-7c1b-4ffd-819f-ca58e2972fbf",
   "metadata": {},
   "outputs": [],
   "source": [
    "List1 = [\"Prince\"]     "
   ]
  },
  {
   "cell_type": "code",
   "execution_count": 32,
   "id": "7b80c562-0d79-4e1d-b487-b42d25e39f6b",
   "metadata": {},
   "outputs": [],
   "source": [
    "List[4] = \"DARSHIL\""
   ]
  },
  {
   "cell_type": "code",
   "execution_count": 33,
   "id": "1f0b839e-d529-4d6e-9160-5f460d2b07c9",
   "metadata": {},
   "outputs": [],
   "source": [
    "List[1] = 5.5    "
   ]
  },
  {
   "cell_type": "code",
   "execution_count": null,
   "id": "bdb66cdc-ab37-4212-adb1-e93300a3dd7a",
   "metadata": {},
   "outputs": [],
   "source": [
    "List"
   ]
  },
  {
   "cell_type": "code",
   "execution_count": 27,
   "id": "acde7ba0-40dc-4ce3-a1e8-3fdd47e25210",
   "metadata": {},
   "outputs": [],
   "source": [
    "List[-1] = \"Prince\""
   ]
  },
  {
   "cell_type": "code",
   "execution_count": 28,
   "id": "4b365edd-9753-4a0a-af17-1bd17af4d716",
   "metadata": {},
   "outputs": [
    {
     "data": {
      "text/plain": [
       "[2, 5.5, True, None, 'Prince']"
      ]
     },
     "execution_count": 28,
     "metadata": {},
     "output_type": "execute_result"
    }
   ],
   "source": [
    "List"
   ]
  },
  {
   "cell_type": "code",
   "execution_count": 11,
   "id": "581842d7-9d37-4540-8912-48d543faeb12",
   "metadata": {},
   "outputs": [
    {
     "name": "stdout",
     "output_type": "stream",
     "text": [
      "YOU ARE NOT VIP YOU WILL BE CHARGED AS REGULAR CUSTOMER\n"
     ]
    }
   ],
   "source": [
    "vip = False\n",
    "age = 85\n",
    "if vip:\n",
    "    if age >=18:\n",
    "        if age <65:\n",
    "            print(\"Hey Welcome to the Party\")\n",
    "        else:\n",
    "            print(\"YOU WILL GET HIGHER DIS. BCOZ YOU ARE SENIOR CITIZEN\")\n",
    "    else:\n",
    "        print(\"ONLY ADULTS WILL GET ENTRY\")\n",
    "else:\n",
    "    print(\"YOU ARE NOT VIP YOU WILL BE CHARGED AS REGULAR CUSTOMER\")"
   ]
  },
  {
   "cell_type": "code",
   "execution_count": 12,
   "id": "19480ea8-3c90-47d4-922b-ba70692bbad1",
   "metadata": {},
   "outputs": [
    {
     "data": {
      "text/plain": [
       "False"
      ]
     },
     "execution_count": 12,
     "metadata": {},
     "output_type": "execute_result"
    }
   ],
   "source": [
    "True & False"
   ]
  },
  {
   "cell_type": "code",
   "execution_count": 13,
   "id": "dfcbe18e-673e-4fb7-9831-bfa597a278ee",
   "metadata": {},
   "outputs": [
    {
     "data": {
      "text/plain": [
       "0"
      ]
     },
     "execution_count": 13,
     "metadata": {},
     "output_type": "execute_result"
    }
   ],
   "source": [
    "1 & 0"
   ]
  },
  {
   "cell_type": "code",
   "execution_count": 14,
   "id": "2355fc75-3727-4c04-9b30-3c3db2793505",
   "metadata": {},
   "outputs": [
    {
     "data": {
      "text/plain": [
       "False"
      ]
     },
     "execution_count": 14,
     "metadata": {},
     "output_type": "execute_result"
    }
   ],
   "source": [
    "False & True"
   ]
  },
  {
   "cell_type": "code",
   "execution_count": 15,
   "id": "7469005c-9fc1-4301-8dff-92b1f250d0c1",
   "metadata": {},
   "outputs": [
    {
     "data": {
      "text/plain": [
       "True"
      ]
     },
     "execution_count": 15,
     "metadata": {},
     "output_type": "execute_result"
    }
   ],
   "source": [
    "True & True"
   ]
  },
  {
   "cell_type": "code",
   "execution_count": 16,
   "id": "47c320ab-27c8-40fe-8d57-48d02e8386fc",
   "metadata": {},
   "outputs": [
    {
     "data": {
      "text/plain": [
       "False"
      ]
     },
     "execution_count": 16,
     "metadata": {},
     "output_type": "execute_result"
    }
   ],
   "source": [
    "False & False"
   ]
  },
  {
   "cell_type": "code",
   "execution_count": 17,
   "id": "7a7921d4-9ce7-4629-8a71-507f090aad84",
   "metadata": {},
   "outputs": [
    {
     "data": {
      "text/plain": [
       "True"
      ]
     },
     "execution_count": 17,
     "metadata": {},
     "output_type": "execute_result"
    }
   ],
   "source": [
    "True | False"
   ]
  },
  {
   "cell_type": "code",
   "execution_count": 18,
   "id": "3dd5ea2d-847f-434f-b46a-668b84328949",
   "metadata": {},
   "outputs": [
    {
     "data": {
      "text/plain": [
       "True"
      ]
     },
     "execution_count": 18,
     "metadata": {},
     "output_type": "execute_result"
    }
   ],
   "source": [
    "False | True"
   ]
  },
  {
   "cell_type": "code",
   "execution_count": 19,
   "id": "fd36689d-4a8d-4bc2-9ec8-5b7787507c0d",
   "metadata": {},
   "outputs": [
    {
     "data": {
      "text/plain": [
       "True"
      ]
     },
     "execution_count": 19,
     "metadata": {},
     "output_type": "execute_result"
    }
   ],
   "source": [
    "True | True"
   ]
  },
  {
   "cell_type": "code",
   "execution_count": 20,
   "id": "51d50117-a5e9-4e6f-be77-cf3f0371b95f",
   "metadata": {},
   "outputs": [
    {
     "data": {
      "text/plain": [
       "False"
      ]
     },
     "execution_count": 20,
     "metadata": {},
     "output_type": "execute_result"
    }
   ],
   "source": [
    "False | False"
   ]
  },
  {
   "cell_type": "code",
   "execution_count": 21,
   "id": "ad500478-7c5d-4fa1-812d-432fd3178420",
   "metadata": {},
   "outputs": [],
   "source": [
    "#FIND AOT THE BINARY VALUE OF 2 & 5?"
   ]
  },
  {
   "cell_type": "code",
   "execution_count": 22,
   "id": "945d3eab-2084-4176-82bc-801a2763ff79",
   "metadata": {},
   "outputs": [
    {
     "data": {
      "text/plain": [
       "0"
      ]
     },
     "execution_count": 22,
     "metadata": {},
     "output_type": "execute_result"
    }
   ],
   "source": [
    "2 & 5 "
   ]
  },
  {
   "cell_type": "code",
   "execution_count": 23,
   "id": "c8bea852-925f-409f-b6da-dc37c6cdd5b2",
   "metadata": {},
   "outputs": [
    {
     "data": {
      "text/plain": [
       "'0b10'"
      ]
     },
     "execution_count": 23,
     "metadata": {},
     "output_type": "execute_result"
    }
   ],
   "source": [
    "bin(2)"
   ]
  },
  {
   "cell_type": "code",
   "execution_count": 24,
   "id": "8fbab9fe-cfad-4317-b756-82fe1197230c",
   "metadata": {},
   "outputs": [
    {
     "data": {
      "text/plain": [
       "'0b101'"
      ]
     },
     "execution_count": 24,
     "metadata": {},
     "output_type": "execute_result"
    }
   ],
   "source": [
    "bin(5)"
   ]
  },
  {
   "cell_type": "code",
   "execution_count": 25,
   "id": "b460c293-2257-4f7b-aa43-b77851b91179",
   "metadata": {},
   "outputs": [
    {
     "data": {
      "text/plain": [
       "56"
      ]
     },
     "execution_count": 25,
     "metadata": {},
     "output_type": "execute_result"
    }
   ],
   "source": [
    "56 | 40"
   ]
  },
  {
   "cell_type": "code",
   "execution_count": 27,
   "id": "b006a450-5207-4e61-9b1e-63673534d6d9",
   "metadata": {},
   "outputs": [
    {
     "name": "stdout",
     "output_type": "stream",
     "text": [
      "I WILL STAY AT HOME\n"
     ]
    }
   ],
   "source": [
    "Holiday = False\n",
    "if Holiday:\n",
    "    print(\"WE WILL GO TO THE DELHI\")\n",
    "else:\n",
    "    print(\"I WILL STAY AT HOME\")"
   ]
  },
  {
   "cell_type": "code",
   "execution_count": 34,
   "id": "ab109337-2c23-4173-98b3-9ec33deb4c58",
   "metadata": {},
   "outputs": [
    {
     "data": {
      "text/plain": [
       "int"
      ]
     },
     "execution_count": 34,
     "metadata": {},
     "output_type": "execute_result"
    }
   ],
   "source": [
    "a=2\n",
    "type(a)"
   ]
  },
  {
   "cell_type": "code",
   "execution_count": 35,
   "id": "8de2dd91-5ada-44dd-a889-fa20aae150f8",
   "metadata": {},
   "outputs": [
    {
     "data": {
      "text/plain": [
       "float"
      ]
     },
     "execution_count": 35,
     "metadata": {},
     "output_type": "execute_result"
    }
   ],
   "source": [
    "a=5.6\n",
    "type(a)"
   ]
  },
  {
   "cell_type": "code",
   "execution_count": 36,
   "id": "248fb542-54a7-4983-bdbe-6e3da21bf19d",
   "metadata": {},
   "outputs": [
    {
     "data": {
      "text/plain": [
       "bool"
      ]
     },
     "execution_count": 36,
     "metadata": {},
     "output_type": "execute_result"
    }
   ],
   "source": [
    "a=True\n",
    "type(a)"
   ]
  },
  {
   "cell_type": "code",
   "execution_count": 37,
   "id": "4c443983-05f6-436b-96bd-60786bb1bfef",
   "metadata": {},
   "outputs": [
    {
     "data": {
      "text/plain": [
       "complex"
      ]
     },
     "execution_count": 37,
     "metadata": {},
     "output_type": "execute_result"
    }
   ],
   "source": [
    "a=3+9j\n",
    "type(a)"
   ]
  },
  {
   "cell_type": "code",
   "execution_count": 40,
   "id": "f091618e-943b-4151-a23b-91b5b1da93c6",
   "metadata": {},
   "outputs": [
    {
     "data": {
      "text/plain": [
       "3.0"
      ]
     },
     "execution_count": 40,
     "metadata": {},
     "output_type": "execute_result"
    }
   ],
   "source": [
    "a.real"
   ]
  },
  {
   "cell_type": "code",
   "execution_count": 41,
   "id": "246867c3-8978-4c61-9905-40ea3bbe295d",
   "metadata": {},
   "outputs": [
    {
     "data": {
      "text/plain": [
       "9.0"
      ]
     },
     "execution_count": 41,
     "metadata": {},
     "output_type": "execute_result"
    }
   ],
   "source": [
    "a.imag"
   ]
  },
  {
   "cell_type": "code",
   "execution_count": 42,
   "id": "c13e12e2-a30f-478e-be93-dab628856d5f",
   "metadata": {},
   "outputs": [],
   "source": [
    "a = \"DARSHIL\"\n"
   ]
  },
  {
   "cell_type": "code",
   "execution_count": 43,
   "id": "e97cf490-1166-4bae-8f74-bc77ab30e6ca",
   "metadata": {},
   "outputs": [
    {
     "data": {
      "text/plain": [
       "'DARSHIL'"
      ]
     },
     "execution_count": 43,
     "metadata": {},
     "output_type": "execute_result"
    }
   ],
   "source": [
    "a"
   ]
  },
  {
   "cell_type": "code",
   "execution_count": 45,
   "id": "09aa1636-6513-4fc3-b5c0-0800e50402e6",
   "metadata": {},
   "outputs": [
    {
     "data": {
      "text/plain": [
       "False"
      ]
     },
     "execution_count": 45,
     "metadata": {},
     "output_type": "execute_result"
    }
   ],
   "source": [
    "'ar' in a"
   ]
  },
  {
   "cell_type": "code",
   "execution_count": 61,
   "id": "0fa897dc-bbd4-4629-bfb6-a58d8a5a125e",
   "metadata": {},
   "outputs": [],
   "source": [
    "a=55"
   ]
  },
  {
   "cell_type": "code",
   "execution_count": 62,
   "id": "e307141a-0efc-42ad-ad75-af990fb976f1",
   "metadata": {},
   "outputs": [],
   "source": [
    "a -= 5"
   ]
  },
  {
   "cell_type": "code",
   "execution_count": 63,
   "id": "7039bb34-cbb1-4291-90b5-33bc105a4190",
   "metadata": {},
   "outputs": [
    {
     "data": {
      "text/plain": [
       "50"
      ]
     },
     "execution_count": 63,
     "metadata": {},
     "output_type": "execute_result"
    }
   ],
   "source": [
    "a"
   ]
  },
  {
   "cell_type": "code",
   "execution_count": 64,
   "id": "256c2360-5ce1-4c4f-bbcd-2138943b3b1e",
   "metadata": {},
   "outputs": [
    {
     "data": {
      "text/plain": [
       "1267650600228229401496703205376"
      ]
     },
     "execution_count": 64,
     "metadata": {},
     "output_type": "execute_result"
    }
   ],
   "source": [
    "2 ** 100"
   ]
  },
  {
   "cell_type": "code",
   "execution_count": 65,
   "id": "b57fac57-8217-4e40-b5e2-2c821092a3d2",
   "metadata": {},
   "outputs": [
    {
     "data": {
      "text/plain": [
       "4.2255020007607644e+29"
      ]
     },
     "execution_count": 65,
     "metadata": {},
     "output_type": "execute_result"
    }
   ],
   "source": [
    "2**100/3"
   ]
  },
  {
   "cell_type": "code",
   "execution_count": 80,
   "id": "94b360a5-81a6-4ead-95bb-e2fc362821e7",
   "metadata": {},
   "outputs": [
    {
     "name": "stdout",
     "output_type": "stream",
     "text": [
      "I WILL GOLD\n"
     ]
    }
   ],
   "source": [
    "salary = 100000\n",
    "if salary >= 50000:\n",
    "    print(\"I WILL GOLD\")\n",
    "elif 50000<=salary<=40000:\n",
    "    print(\"I WILL BUY SILVER\")\n",
    "else:\n",
    "    print(\"I WILL BUY METAL\")\n",
    "\n",
    "    "
   ]
  },
  {
   "cell_type": "code",
   "execution_count": 93,
   "id": "90db2e28-69ca-47e9-96fc-96b47d469ae9",
   "metadata": {},
   "outputs": [
    {
     "name": "stdout",
     "output_type": "stream",
     "text": [
      "3K\n"
     ]
    }
   ],
   "source": [
    "budget=300000\n",
    "russian=500\n",
    "if budget >= 500000:\n",
    "        print(\"5K\")\n",
    "elif 300000<=budget<=500000:\n",
    "        print(\"3K\")\n",
    "else:\n",
    "    print(\"Less than 3K\")"
   ]
  },
  {
   "cell_type": "code",
   "execution_count": 105,
   "id": "c5a2be3e-d8fa-4660-8546-74da3854c852",
   "metadata": {},
   "outputs": [
    {
     "name": "stdout",
     "output_type": "stream",
     "text": [
      "POOR\n"
     ]
    }
   ],
   "source": [
    "Crickter = \"Virat\"\n",
    "run = 29\n",
    "if run >= 50:\n",
    "    print(\"EXECELLENT\")\n",
    "elif 50>=run>=30:\n",
    "    print(\"GOOD\")\n",
    "else:\n",
    "    print(\"POOR\")\n"
   ]
  },
  {
   "cell_type": "raw",
   "id": "ef23a865-a379-46e6-8693-d9bae53e091b",
   "metadata": {},
   "source": [
    "\n",
    "\n",
    "\n"
   ]
  },
  {
   "cell_type": "raw",
   "id": "c7ca042a-fc4a-48a2-807c-036cf20ce8ff",
   "metadata": {},
   "source": [
    "\n",
    "\n",
    "\n",
    "\n"
   ]
  },
  {
   "cell_type": "markdown",
   "id": "ffca687a-ca22-486c-b14a-3ae2d8fa53d0",
   "metadata": {},
   "source": [
    "# ROUGH PRACTICE"
   ]
  },
  {
   "cell_type": "markdown",
   "id": "03e1b21e-b76b-45bb-bfaa-c727882f3e38",
   "metadata": {},
   "source": [
    "### WHAT IS int, float, bool, complex, none, str?\n"
   ]
  },
  {
   "cell_type": "code",
   "execution_count": 2,
   "id": "a5491199-0d0b-404d-a008-f6796233160f",
   "metadata": {},
   "outputs": [],
   "source": [
    "a = 2\n",
    "b = 2.5\n",
    "c = True \n",
    "d = 6+9j\n",
    "e = None\n",
    "f = \"DARSHIL MATHUR\""
   ]
  },
  {
   "cell_type": "code",
   "execution_count": 7,
   "id": "77b3c489-b2bf-4d4b-83aa-03418c59186e",
   "metadata": {},
   "outputs": [
    {
     "data": {
      "text/plain": [
       "int"
      ]
     },
     "execution_count": 7,
     "metadata": {},
     "output_type": "execute_result"
    }
   ],
   "source": [
    "type (a) "
   ]
  },
  {
   "cell_type": "code",
   "execution_count": 8,
   "id": "6e7eae64-e96f-4d0e-88aa-864bc3fc0f95",
   "metadata": {},
   "outputs": [
    {
     "data": {
      "text/plain": [
       "float"
      ]
     },
     "execution_count": 8,
     "metadata": {},
     "output_type": "execute_result"
    }
   ],
   "source": [
    "type (b)\n"
   ]
  },
  {
   "cell_type": "code",
   "execution_count": 9,
   "id": "da163063-39be-407b-99bb-14bd4861d40b",
   "metadata": {},
   "outputs": [
    {
     "data": {
      "text/plain": [
       "bool"
      ]
     },
     "execution_count": 9,
     "metadata": {},
     "output_type": "execute_result"
    }
   ],
   "source": [
    "type (c)\n"
   ]
  },
  {
   "cell_type": "code",
   "execution_count": 10,
   "id": "be15fe2d-7f09-46b1-824d-dd654dd4705d",
   "metadata": {},
   "outputs": [
    {
     "data": {
      "text/plain": [
       "complex"
      ]
     },
     "execution_count": 10,
     "metadata": {},
     "output_type": "execute_result"
    }
   ],
   "source": [
    "type (d)"
   ]
  },
  {
   "cell_type": "code",
   "execution_count": 11,
   "id": "54047ca9-2098-4a50-8f71-c3d723a1be35",
   "metadata": {},
   "outputs": [
    {
     "data": {
      "text/plain": [
       "NoneType"
      ]
     },
     "execution_count": 11,
     "metadata": {},
     "output_type": "execute_result"
    }
   ],
   "source": [
    "type (e)"
   ]
  },
  {
   "cell_type": "code",
   "execution_count": 12,
   "id": "9c75bf10-e461-4e39-94ba-9d2e09612fb1",
   "metadata": {},
   "outputs": [
    {
     "data": {
      "text/plain": [
       "str"
      ]
     },
     "execution_count": 12,
     "metadata": {},
     "output_type": "execute_result"
    }
   ],
   "source": [
    "type (f)"
   ]
  },
  {
   "cell_type": "markdown",
   "id": "47f669b5-fe30-42b2-922f-b079c0cbf1ec",
   "metadata": {},
   "source": [
    "### HOW TO CHANGE THE TYPE OF KEYWORDS?"
   ]
  },
  {
   "cell_type": "code",
   "execution_count": 20,
   "id": "d8479492-4ea6-4c38-82dc-3e7db994f23e",
   "metadata": {},
   "outputs": [
    {
     "name": "stdout",
     "output_type": "stream",
     "text": [
      "<class 'int'>\n",
      "<class 'bool'>\n"
     ]
    }
   ],
   "source": [
    "print(type(a))\n",
    "print(type(bool(a)))"
   ]
  },
  {
   "cell_type": "code",
   "execution_count": 23,
   "id": "7eb6cf63-79f7-44b1-aabb-1f78c9d5b4e9",
   "metadata": {},
   "outputs": [],
   "source": [
    "a = 2   \n",
    "\n",
    "#It is integer value, now convert integer into string!"
   ]
  },
  {
   "cell_type": "code",
   "execution_count": 26,
   "id": "a85c8eb2-d9a5-4291-bb97-c50baae9621b",
   "metadata": {},
   "outputs": [
    {
     "data": {
      "text/plain": [
       "str"
      ]
     },
     "execution_count": 26,
     "metadata": {},
     "output_type": "execute_result"
    }
   ],
   "source": [
    "a = \"2\"    \n",
    "type(a)\n",
    "\n",
    "#Integer will change to - String, Float but string will never convert into integer, float, etc."
   ]
  },
  {
   "cell_type": "markdown",
   "id": "a1238253-68b4-4503-8252-dafff7fa2c87",
   "metadata": {},
   "source": [
    "# WHAT IS MUTABILITY & IMMUTABILITY?"
   ]
  },
  {
   "cell_type": "markdown",
   "id": "c4dbc190-110f-4f4f-862b-7b94616dfd5f",
   "metadata": {},
   "source": [
    "### -> MUTABILITY : means when the set of any list (block) will change from left to right +ve (i.e. 0>1>2>3...etc) \n",
    "### but in -ve it will starts from right to left (i.e. ...-4,-3,-2,-1) is known as Mutability.\n",
    "\n",
    "### ->IMMUTABILITY : means the object/container whose state will not change after they are created \n",
    "### are called as immutable object or containe. (i.e. String)"
   ]
  },
  {
   "cell_type": "code",
   "execution_count": 57,
   "id": "fded3f9b-0dce-4976-a0cd-c68737342fda",
   "metadata": {},
   "outputs": [
    {
     "data": {
      "text/plain": [
       "[2, 2.5, (2+9j), None, True, 'DARSHIL MATHUR']"
      ]
     },
     "execution_count": 57,
     "metadata": {},
     "output_type": "execute_result"
    }
   ],
   "source": [
    "List = [2, 2.5, 2+9j, None, True, \"DARSHIL MATHUR\"]\n",
    "List"
   ]
  },
  {
   "cell_type": "code",
   "execution_count": 58,
   "id": "0a1e7205-b37a-43d5-847a-b603f2de862c",
   "metadata": {},
   "outputs": [],
   "source": [
    "List[2] = 9+8j"
   ]
  },
  {
   "cell_type": "code",
   "execution_count": 59,
   "id": "4b31be77-90e3-497d-8c11-19079a4c4e6b",
   "metadata": {},
   "outputs": [
    {
     "data": {
      "text/plain": [
       "(9+8j)"
      ]
     },
     "execution_count": 59,
     "metadata": {},
     "output_type": "execute_result"
    }
   ],
   "source": [
    "List[2]"
   ]
  },
  {
   "cell_type": "code",
   "execution_count": 60,
   "id": "f158e4a0-773a-44e0-82cf-0387c8355b90",
   "metadata": {},
   "outputs": [
    {
     "data": {
      "text/plain": [
       "[2, 2.5, (9+8j), None, True, 'DARSHIL MATHUR']"
      ]
     },
     "execution_count": 60,
     "metadata": {},
     "output_type": "execute_result"
    }
   ],
   "source": [
    "List"
   ]
  },
  {
   "cell_type": "code",
   "execution_count": 61,
   "id": "bd97f6ba-66da-4a06-bc44-9a79cf54dd52",
   "metadata": {},
   "outputs": [],
   "source": [
    "List[5] = \"PRINCE SUTHAR\""
   ]
  },
  {
   "cell_type": "code",
   "execution_count": 62,
   "id": "deb0a6bf-d978-4ed8-b4d8-6feef76df059",
   "metadata": {},
   "outputs": [
    {
     "data": {
      "text/plain": [
       "[2, 2.5, (9+8j), None, True, 'PRINCE SUTHAR']"
      ]
     },
     "execution_count": 62,
     "metadata": {},
     "output_type": "execute_result"
    }
   ],
   "source": [
    "List"
   ]
  },
  {
   "cell_type": "code",
   "execution_count": null,
   "id": "10577a13-2f2d-4228-bd37-8423bdc654d0",
   "metadata": {},
   "outputs": [],
   "source": []
  },
  {
   "cell_type": "markdown",
   "id": "d519e07e-ad04-4c89-a519-5d74464aacf9",
   "metadata": {},
   "source": [
    "# OPERATORS?"
   ]
  },
  {
   "cell_type": "markdown",
   "id": "3e6b39f8-2bfc-44ac-b30f-1820be82e7f3",
   "metadata": {},
   "source": [
    "### 1. Arithmatic Operators\n",
    "-> Addition, Subtraction, Multiplications, Divisions, Modulas, Exponentation"
   ]
  },
  {
   "cell_type": "markdown",
   "id": "e077bc57-0dc5-43f5-894d-431f4c3eaa4b",
   "metadata": {},
   "source": [
    "### 2. Comparision Operator\n",
    "-> Equal to, Not equal to, Greater than, Less than, greater than and equal to, less than and equal to"
   ]
  },
  {
   "cell_type": "markdown",
   "id": "ac28c311-5064-4d91-a6e0-71e82cb89b24",
   "metadata": {},
   "source": [
    "### 3. Logical Operator\n",
    "-> logical and, logical or, logical not"
   ]
  },
  {
   "cell_type": "markdown",
   "id": "ceab4c04-4a0e-4d6d-a3de-2824e11f8c64",
   "metadata": {},
   "source": [
    "### 4. Bitwise Operator\n",
    "-> Bitwise AND, Bitwise OR, Bitwise NOT, Bitwise XOR, Left Shift, Right Shift"
   ]
  },
  {
   "cell_type": "markdown",
   "id": "68ed02b9-70cd-4632-9e4f-fb849fb761b5",
   "metadata": {},
   "source": [
    "### 5. Assignment Operators\n",
    "-> Assignment, Addition Assignment, Subtraction Assignment, Multiplication Assignment, Division Assignment"
   ]
  },
  {
   "cell_type": "markdown",
   "id": "dd9f9855-60fe-44ab-a81b-ce2bffacb504",
   "metadata": {},
   "source": [
    "### 6. Membership Operator\n",
    "-> In, Not in"
   ]
  },
  {
   "cell_type": "markdown",
   "id": "5fee6ac2-d960-4188-b491-29039496fcde",
   "metadata": {},
   "source": [
    "### 7. Identity Operator\n",
    "-> is, is not"
   ]
  },
  {
   "cell_type": "code",
   "execution_count": null,
   "id": "97fcff3c-8dd8-43d8-afb3-4ae64d8d7f26",
   "metadata": {},
   "outputs": [],
   "source": []
  },
  {
   "cell_type": "markdown",
   "id": "5bafe286-1b9e-49f4-91b5-50ea45086bc2",
   "metadata": {},
   "source": [
    "# LOGICAL OPERATOR\n",
    "\n",
    "### and denotes = &\n",
    "\n",
    "### or denotes = |\n",
    "\n",
    "### not = not"
   ]
  },
  {
   "cell_type": "code",
   "execution_count": 65,
   "id": "ac4d2a20-4c9b-4cd5-8d39-069653d0f7b6",
   "metadata": {},
   "outputs": [],
   "source": [
    "\n",
    "# True and False = False           1 & 0 = 0                 \n",
    "# False and True = False           0 & 1 = 0   \n",
    "# True and True = True             1 & 1 = 1\n",
    "# False and False = False          0 & 0 = 0\n"
   ]
  },
  {
   "cell_type": "code",
   "execution_count": 67,
   "id": "9e591999-e547-42ce-b247-f1a700330d36",
   "metadata": {},
   "outputs": [],
   "source": [
    "\n",
    "# True or False = True            1 & 0 = 1                \n",
    "# False or True = Truee           0 & 1 = 1\n",
    "# True or True = True             1 & 1 = 1\n",
    "# False or False = False          0 & 0 = 0\n"
   ]
  },
  {
   "cell_type": "code",
   "execution_count": 68,
   "id": "d3bfb275-5bde-4009-ae21-190f61b8f013",
   "metadata": {},
   "outputs": [
    {
     "data": {
      "text/plain": [
       "False"
      ]
     },
     "execution_count": 68,
     "metadata": {},
     "output_type": "execute_result"
    }
   ],
   "source": [
    "True & False"
   ]
  },
  {
   "cell_type": "code",
   "execution_count": 69,
   "id": "e441eaa2-9a67-4f57-b374-025c260835d1",
   "metadata": {},
   "outputs": [
    {
     "data": {
      "text/plain": [
       "True"
      ]
     },
     "execution_count": 69,
     "metadata": {},
     "output_type": "execute_result"
    }
   ],
   "source": [
    "True or False"
   ]
  },
  {
   "cell_type": "code",
   "execution_count": 70,
   "id": "b7e5e4ea-3f4a-4326-8840-9557e9c6b0e5",
   "metadata": {},
   "outputs": [
    {
     "data": {
      "text/plain": [
       "0"
      ]
     },
     "execution_count": 70,
     "metadata": {},
     "output_type": "execute_result"
    }
   ],
   "source": [
    "1 & 0"
   ]
  },
  {
   "cell_type": "code",
   "execution_count": 71,
   "id": "b4973fd2-c584-4885-b3c9-eb7e4e6b7640",
   "metadata": {},
   "outputs": [
    {
     "data": {
      "text/plain": [
       "1"
      ]
     },
     "execution_count": 71,
     "metadata": {},
     "output_type": "execute_result"
    }
   ],
   "source": [
    "1 | 0"
   ]
  },
  {
   "cell_type": "code",
   "execution_count": 72,
   "id": "2cd577f9-13b4-42f7-bff7-95fc418fc6f2",
   "metadata": {},
   "outputs": [
    {
     "data": {
      "text/plain": [
       "False"
      ]
     },
     "execution_count": 72,
     "metadata": {},
     "output_type": "execute_result"
    }
   ],
   "source": [
    "not True"
   ]
  },
  {
   "cell_type": "code",
   "execution_count": 73,
   "id": "81553e2b-84c8-49ab-980d-9753004b741e",
   "metadata": {},
   "outputs": [
    {
     "data": {
      "text/plain": [
       "True"
      ]
     },
     "execution_count": 73,
     "metadata": {},
     "output_type": "execute_result"
    }
   ],
   "source": [
    "not False"
   ]
  },
  {
   "cell_type": "code",
   "execution_count": null,
   "id": "17a0695a-7f51-44c6-869b-b8c8b528ff95",
   "metadata": {},
   "outputs": [],
   "source": []
  },
  {
   "cell_type": "markdown",
   "id": "ef31db1e-9871-4c55-bb8a-fad2b880b523",
   "metadata": {},
   "source": [
    "# Assignment Operator\n",
    "\n",
    "### Whenever the symbol assign to the given value it is called assignment opeartor."
   ]
  },
  {
   "cell_type": "code",
   "execution_count": 75,
   "id": "1b60ba9c-d2c5-40ca-aaf6-6fce71f9e599",
   "metadata": {},
   "outputs": [
    {
     "data": {
      "text/plain": [
       "25"
      ]
     },
     "execution_count": 75,
     "metadata": {},
     "output_type": "execute_result"
    }
   ],
   "source": [
    "A = 20\n",
    "A += 5   #ASSIGNNING THE VALUE 5 TO THE A=20 i.e PYTHON WILL TAKE COMMAND FROM LEFT TO RIGHT\n",
    "A"
   ]
  },
  {
   "cell_type": "code",
   "execution_count": 77,
   "id": "5a5205c4-0bc3-4c05-b75c-51ba2d86139c",
   "metadata": {},
   "outputs": [
    {
     "data": {
      "text/plain": [
       "4.0"
      ]
     },
     "execution_count": 77,
     "metadata": {},
     "output_type": "execute_result"
    }
   ],
   "source": [
    "B = 20\n",
    "B /= 5\n",
    "B"
   ]
  },
  {
   "cell_type": "code",
   "execution_count": 79,
   "id": "a0c2017f-9880-4c4f-87c1-85b5ff34473c",
   "metadata": {},
   "outputs": [
    {
     "data": {
      "text/plain": [
       "125"
      ]
     },
     "execution_count": 79,
     "metadata": {},
     "output_type": "execute_result"
    }
   ],
   "source": [
    "C = 25\n",
    "C *= 5\n",
    "C"
   ]
  },
  {
   "cell_type": "markdown",
   "id": "037d92f4-8a7d-4eb7-bfd3-af40f3fd1da1",
   "metadata": {},
   "source": []
  },
  {
   "cell_type": "markdown",
   "id": "8f388305-a6c5-4a24-b4c2-c4ca3cfdbfbc",
   "metadata": {},
   "source": [
    "# Membership Operator\n",
    "\n",
    "### Identifying that the applying value is matched from the given data or not?"
   ]
  },
  {
   "cell_type": "code",
   "execution_count": 81,
   "id": "ee87b5a4-3b32-4002-a597-783f017e5270",
   "metadata": {},
   "outputs": [
    {
     "data": {
      "text/plain": [
       "True"
      ]
     },
     "execution_count": 81,
     "metadata": {},
     "output_type": "execute_result"
    }
   ],
   "source": [
    "A = \"DARSHIL MATHUR\"\n",
    "\"SH\" in A"
   ]
  },
  {
   "cell_type": "code",
   "execution_count": 82,
   "id": "30c3feb2-adf0-4ae5-9013-e9997af4c9e9",
   "metadata": {},
   "outputs": [
    {
     "data": {
      "text/plain": [
       "False"
      ]
     },
     "execution_count": 82,
     "metadata": {},
     "output_type": "execute_result"
    }
   ],
   "source": [
    "B = 20\n",
    "C = 25\n",
    "C is B"
   ]
  },
  {
   "cell_type": "code",
   "execution_count": 83,
   "id": "09d83e01-a3be-43e0-bcb7-e8a17125a48a",
   "metadata": {},
   "outputs": [
    {
     "data": {
      "text/plain": [
       "True"
      ]
     },
     "execution_count": 83,
     "metadata": {},
     "output_type": "execute_result"
    }
   ],
   "source": [
    "B = 20\n",
    "C = B\n",
    "C is B"
   ]
  },
  {
   "cell_type": "markdown",
   "id": "57d64404-4615-4f67-89c7-c88288bbb6c0",
   "metadata": {},
   "source": []
  },
  {
   "cell_type": "markdown",
   "id": "5a757ca6-4f2f-4ceb-ac8b-4cf7f68d6e5a",
   "metadata": {},
   "source": [
    "# Bitwise Operator >>> \n",
    "\n",
    "### Whatever data stored in machine is in binary format (i.e. o, 1) at Bit Level manupulating individual bit witin integer."
   ]
  },
  {
   "cell_type": "code",
   "execution_count": 84,
   "id": "7a3997cb-edaf-453f-8b80-02dde1fa17f9",
   "metadata": {},
   "outputs": [
    {
     "data": {
      "text/plain": [
       "10"
      ]
     },
     "execution_count": 84,
     "metadata": {},
     "output_type": "execute_result"
    }
   ],
   "source": [
    "10 & 10"
   ]
  },
  {
   "cell_type": "code",
   "execution_count": 85,
   "id": "90a73c0e-96a1-44e0-aea9-0c959d59cfc1",
   "metadata": {},
   "outputs": [
    {
     "data": {
      "text/plain": [
       "'0b1010'"
      ]
     },
     "execution_count": 85,
     "metadata": {},
     "output_type": "execute_result"
    }
   ],
   "source": [
    "bin(10)"
   ]
  },
  {
   "cell_type": "code",
   "execution_count": 86,
   "id": "d5398149-9628-4488-b497-4abe4a9293d4",
   "metadata": {},
   "outputs": [
    {
     "data": {
      "text/plain": [
       "4"
      ]
     },
     "execution_count": 86,
     "metadata": {},
     "output_type": "execute_result"
    }
   ],
   "source": [
    "5 & 6"
   ]
  },
  {
   "cell_type": "code",
   "execution_count": 87,
   "id": "2267d4c2-f902-4377-94f3-f559b18af633",
   "metadata": {},
   "outputs": [
    {
     "data": {
      "text/plain": [
       "'0b101'"
      ]
     },
     "execution_count": 87,
     "metadata": {},
     "output_type": "execute_result"
    }
   ],
   "source": [
    "bin(5)\n"
   ]
  },
  {
   "cell_type": "code",
   "execution_count": 88,
   "id": "7d206383-6ef2-440b-b088-3f0de75029c3",
   "metadata": {},
   "outputs": [
    {
     "data": {
      "text/plain": [
       "'0b110'"
      ]
     },
     "execution_count": 88,
     "metadata": {},
     "output_type": "execute_result"
    }
   ],
   "source": [
    "bin(6)"
   ]
  },
  {
   "cell_type": "raw",
   "id": "ed78d4c4-7133-457b-974e-11a4ea879a13",
   "metadata": {},
   "source": [
    "  bin(5) = 101\n",
    "  bin(6) = 110\n",
    "------------------\n",
    " total  =  100\n",
    "------------------\n",
    "\n",
    "*The binary value of 5 & 6 = 4 (0b100)"
   ]
  },
  {
   "cell_type": "code",
   "execution_count": 90,
   "id": "6e964e85-d645-40e9-b791-f3a1d96f830d",
   "metadata": {},
   "outputs": [
    {
     "data": {
      "text/plain": [
       "'0b100'"
      ]
     },
     "execution_count": 90,
     "metadata": {},
     "output_type": "execute_result"
    }
   ],
   "source": [
    "bin(4)\n"
   ]
  },
  {
   "cell_type": "code",
   "execution_count": null,
   "id": "07a4c470-42d3-4b1f-a9ac-60220a185229",
   "metadata": {},
   "outputs": [],
   "source": []
  },
  {
   "cell_type": "markdown",
   "id": "86ced742-318b-4ad1-9cf5-c0cc83f5740b",
   "metadata": {},
   "source": [
    "## Bitwise Operator : XOR"
   ]
  },
  {
   "cell_type": "code",
   "execution_count": 94,
   "id": "527a6507-2302-4c83-9789-f36e8b02b64b",
   "metadata": {},
   "outputs": [
    {
     "data": {
      "text/plain": [
       "6"
      ]
     },
     "execution_count": 94,
     "metadata": {},
     "output_type": "execute_result"
    }
   ],
   "source": [
    "5^3"
   ]
  },
  {
   "cell_type": "code",
   "execution_count": 95,
   "id": "df08aaad-1629-4a6d-b5b5-ead2da218390",
   "metadata": {},
   "outputs": [
    {
     "data": {
      "text/plain": [
       "'0b110'"
      ]
     },
     "execution_count": 95,
     "metadata": {},
     "output_type": "execute_result"
    }
   ],
   "source": [
    "bin(6)\n"
   ]
  },
  {
   "cell_type": "code",
   "execution_count": null,
   "id": "06b69503-0f9c-4da6-a4d5-789f9eff3071",
   "metadata": {},
   "outputs": [],
   "source": [
    "\n"
   ]
  },
  {
   "cell_type": "markdown",
   "id": "35b8de9d-94a7-4c2c-b4ee-de0fc4f17f8e",
   "metadata": {},
   "source": [
    "# Shift Operator\n",
    "\n",
    "### Left or Right Shift"
   ]
  },
  {
   "cell_type": "code",
   "execution_count": 96,
   "id": "6128b7b0-3e25-46d8-be3c-f985e39bfc51",
   "metadata": {},
   "outputs": [
    {
     "data": {
      "text/plain": [
       "280"
      ]
     },
     "execution_count": 96,
     "metadata": {},
     "output_type": "execute_result"
    }
   ],
   "source": [
    "35<<3"
   ]
  },
  {
   "cell_type": "code",
   "execution_count": 97,
   "id": "7b1eaed3-8edb-4e6b-906e-dba7c8dc1953",
   "metadata": {},
   "outputs": [
    {
     "data": {
      "text/plain": [
       "'0b100011'"
      ]
     },
     "execution_count": 97,
     "metadata": {},
     "output_type": "execute_result"
    }
   ],
   "source": [
    "bin(35)"
   ]
  },
  {
   "cell_type": "raw",
   "id": "e190308d-d0cd-4d0e-b8f0-1763e0825642",
   "metadata": {},
   "source": [
    "In this operator the symbl << & num 3 denotes that shift zero from end upto 3 places. "
   ]
  },
  {
   "cell_type": "code",
   "execution_count": 101,
   "id": "723644bc-d31d-492d-a8c4-9ecdb60cece2",
   "metadata": {},
   "outputs": [
    {
     "data": {
      "text/plain": [
       "4"
      ]
     },
     "execution_count": 101,
     "metadata": {},
     "output_type": "execute_result"
    }
   ],
   "source": [
    "35>>3"
   ]
  },
  {
   "cell_type": "code",
   "execution_count": 102,
   "id": "ae864a87-8936-4b37-8ed5-bca1a2651f4d",
   "metadata": {},
   "outputs": [
    {
     "data": {
      "text/plain": [
       "'0b100'"
      ]
     },
     "execution_count": 102,
     "metadata": {},
     "output_type": "execute_result"
    }
   ],
   "source": [
    "bin(4)"
   ]
  },
  {
   "cell_type": "raw",
   "id": "5670b813-9a4d-4bdf-b9f9-6d893a0d2199",
   "metadata": {},
   "source": [
    "Same as for Right Shift : in this operator the symbl >> & num 3 denotes that shift zero from starting to 3 places. "
   ]
  },
  {
   "cell_type": "code",
   "execution_count": null,
   "id": "f0becb97-401e-4237-b2bf-b88c28c36d45",
   "metadata": {},
   "outputs": [],
   "source": []
  },
  {
   "cell_type": "markdown",
   "id": "77c77502-6d97-4814-9999-3904733f879d",
   "metadata": {},
   "source": [
    "# Order of Proceeding\n",
    "\n",
    "### Value which is in (THIS BRACKET) will execute first."
   ]
  },
  {
   "cell_type": "code",
   "execution_count": 103,
   "id": "1c844807-2076-4c92-8cd4-cb03312ecada",
   "metadata": {},
   "outputs": [
    {
     "data": {
      "text/plain": [
       "4"
      ]
     },
     "execution_count": 103,
     "metadata": {},
     "output_type": "execute_result"
    }
   ],
   "source": [
    "(5+3)-4"
   ]
  },
  {
   "cell_type": "code",
   "execution_count": 104,
   "id": "b8b0d087-4c66-4a66-b86b-abb2bd28ae8f",
   "metadata": {},
   "outputs": [
    {
     "data": {
      "text/plain": [
       "-16"
      ]
     },
     "execution_count": 104,
     "metadata": {},
     "output_type": "execute_result"
    }
   ],
   "source": [
    "9-(5*5)"
   ]
  },
  {
   "cell_type": "code",
   "execution_count": null,
   "id": "56feb3a0-c066-49ff-aa08-24d4f088b153",
   "metadata": {},
   "outputs": [],
   "source": []
  },
  {
   "cell_type": "code",
   "execution_count": null,
   "id": "c26bba0c-2036-428e-8357-20d45b448b27",
   "metadata": {},
   "outputs": [],
   "source": []
  }
 ],
 "metadata": {
  "kernelspec": {
   "display_name": "Python 3 (ipykernel)",
   "language": "python",
   "name": "python3"
  },
  "language_info": {
   "codemirror_mode": {
    "name": "ipython",
    "version": 3
   },
   "file_extension": ".py",
   "mimetype": "text/x-python",
   "name": "python",
   "nbconvert_exporter": "python",
   "pygments_lexer": "ipython3",
   "version": "3.13.3"
  }
 },
 "nbformat": 4,
 "nbformat_minor": 5
}
